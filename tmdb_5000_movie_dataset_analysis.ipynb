{
  "nbformat": 4,
  "nbformat_minor": 0,
  "metadata": {
    "kernelspec": {
      "display_name": "Python 3",
      "language": "python",
      "name": "python3"
    },
    "language_info": {
      "codemirror_mode": {
        "name": "ipython",
        "version": 3
      },
      "file_extension": ".py",
      "mimetype": "text/x-python",
      "name": "python",
      "nbconvert_exporter": "python",
      "pygments_lexer": "ipython3",
      "version": "3.7.6"
    },
    "papermill": {
      "duration": 7.272465,
      "end_time": "2020-12-16T18:05:50.065230",
      "environment_variables": {},
      "exception": null,
      "input_path": "__notebook__.ipynb",
      "output_path": "__notebook__.ipynb",
      "parameters": {},
      "start_time": "2020-12-16T18:05:42.792765",
      "version": "2.1.0"
    },
    "colab": {
      "name": "tmdb-5000-movie-dataset-analysis.ipynb",
      "provenance": []
    }
  },
  "cells": [
    {
      "cell_type": "markdown",
      "metadata": {
        "papermill": {
          "duration": 0.019327,
          "end_time": "2020-12-16T18:05:47.061968",
          "exception": false,
          "start_time": "2020-12-16T18:05:47.042641",
          "status": "completed"
        },
        "tags": [],
        "id": "bXIDA6dv6JsT"
      },
      "source": [
        " # **Introduction**\n",
        " \n",
        " \n",
        " In this notebook  , I'll provide a brief introduction to the dataset I've selected for analysis\n",
        " \n",
        " This data set contains information\n",
        "about 10,000 movies collected from\n",
        "The Movie Database (TMDb),\n",
        "including user ratings and revenue.\n",
        "\n",
        "[www.kaggle.com/tmdb/tmdb-movie-metadata](http://)\n",
        "\n",
        "\n",
        "● Certain columns, like ‘cast’ and ‘genres’, contain multiple values separated by pipe (|) characters.\n",
        "\n",
        "● There are some odd characters in the ‘cast’ column\n",
        "\n",
        "●The final two columns ending with adj show the budget and revenue of the associated movie in terms of 2010 dollars, accounting for inflation over time.\n",
        " \n",
        "\n",
        "\n",
        "Here's some of questions which  i asked based on Dataset\n",
        "\n",
        " \n",
        "1. What is the average runtime of all movies?\n",
        "2. Which are the successfull genres?\n",
        "3. Which movie had the highest and lowest budget?\n",
        "3. What is the average budget of the movie?\n"
      ]
    },
    {
      "cell_type": "code",
      "metadata": {
        "execution": {
          "iopub.execute_input": "2020-12-16T18:05:47.105343Z",
          "iopub.status.busy": "2020-12-16T18:05:47.104511Z",
          "iopub.status.idle": "2020-12-16T18:05:47.107445Z",
          "shell.execute_reply": "2020-12-16T18:05:47.106891Z"
        },
        "papermill": {
          "duration": 0.027142,
          "end_time": "2020-12-16T18:05:47.107548",
          "exception": false,
          "start_time": "2020-12-16T18:05:47.080406",
          "status": "completed"
        },
        "tags": [],
        "id": "1E1UI1QM6JsZ"
      },
      "source": [
        "#import libraries\n",
        "import pandas as pd\n",
        "import numpy as np \n",
        "import matplotlib.pyplot as plt\n",
        "import csv "
      ],
      "execution_count": null,
      "outputs": []
    },
    {
      "cell_type": "code",
      "metadata": {
        "_cell_guid": "79c7e3d0-c299-4dcb-8224-4455121ee9b0",
        "_uuid": "d629ff2d2480ee46fbb7e2d37f6b5fab8052498a",
        "execution": {
          "iopub.execute_input": "2020-12-16T18:05:47.153746Z",
          "iopub.status.busy": "2020-12-16T18:05:47.153160Z",
          "iopub.status.idle": "2020-12-16T18:05:47.334346Z",
          "shell.execute_reply": "2020-12-16T18:05:47.334778Z"
        },
        "papermill": {
          "duration": 0.208557,
          "end_time": "2020-12-16T18:05:47.334949",
          "exception": false,
          "start_time": "2020-12-16T18:05:47.126392",
          "status": "completed"
        },
        "tags": [],
        "id": "Z0sF_pBi6Jsb",
        "outputId": "d1464a74-96af-4ee1-a50e-ef4c560f5bbc"
      },
      "source": [
        "#read our data using pandas \n",
        "data =  pd.read_csv(\"../input/tmdb-movie-metadata/tmdb_5000_movies.csv\")\n",
        "#showing head of our dataset\n",
        "data.head()"
      ],
      "execution_count": null,
      "outputs": [
        {
          "output_type": "execute_result",
          "data": {
            "text/html": [
              "<div>\n",
              "<style scoped>\n",
              "    .dataframe tbody tr th:only-of-type {\n",
              "        vertical-align: middle;\n",
              "    }\n",
              "\n",
              "    .dataframe tbody tr th {\n",
              "        vertical-align: top;\n",
              "    }\n",
              "\n",
              "    .dataframe thead th {\n",
              "        text-align: right;\n",
              "    }\n",
              "</style>\n",
              "<table border=\"1\" class=\"dataframe\">\n",
              "  <thead>\n",
              "    <tr style=\"text-align: right;\">\n",
              "      <th></th>\n",
              "      <th>budget</th>\n",
              "      <th>genres</th>\n",
              "      <th>homepage</th>\n",
              "      <th>id</th>\n",
              "      <th>keywords</th>\n",
              "      <th>original_language</th>\n",
              "      <th>original_title</th>\n",
              "      <th>overview</th>\n",
              "      <th>popularity</th>\n",
              "      <th>production_companies</th>\n",
              "      <th>production_countries</th>\n",
              "      <th>release_date</th>\n",
              "      <th>revenue</th>\n",
              "      <th>runtime</th>\n",
              "      <th>spoken_languages</th>\n",
              "      <th>status</th>\n",
              "      <th>tagline</th>\n",
              "      <th>title</th>\n",
              "      <th>vote_average</th>\n",
              "      <th>vote_count</th>\n",
              "    </tr>\n",
              "  </thead>\n",
              "  <tbody>\n",
              "    <tr>\n",
              "      <th>0</th>\n",
              "      <td>237000000</td>\n",
              "      <td>[{\"id\": 28, \"name\": \"Action\"}, {\"id\": 12, \"nam...</td>\n",
              "      <td>http://www.avatarmovie.com/</td>\n",
              "      <td>19995</td>\n",
              "      <td>[{\"id\": 1463, \"name\": \"culture clash\"}, {\"id\":...</td>\n",
              "      <td>en</td>\n",
              "      <td>Avatar</td>\n",
              "      <td>In the 22nd century, a paraplegic Marine is di...</td>\n",
              "      <td>150.437577</td>\n",
              "      <td>[{\"name\": \"Ingenious Film Partners\", \"id\": 289...</td>\n",
              "      <td>[{\"iso_3166_1\": \"US\", \"name\": \"United States o...</td>\n",
              "      <td>2009-12-10</td>\n",
              "      <td>2787965087</td>\n",
              "      <td>162.0</td>\n",
              "      <td>[{\"iso_639_1\": \"en\", \"name\": \"English\"}, {\"iso...</td>\n",
              "      <td>Released</td>\n",
              "      <td>Enter the World of Pandora.</td>\n",
              "      <td>Avatar</td>\n",
              "      <td>7.2</td>\n",
              "      <td>11800</td>\n",
              "    </tr>\n",
              "    <tr>\n",
              "      <th>1</th>\n",
              "      <td>300000000</td>\n",
              "      <td>[{\"id\": 12, \"name\": \"Adventure\"}, {\"id\": 14, \"...</td>\n",
              "      <td>http://disney.go.com/disneypictures/pirates/</td>\n",
              "      <td>285</td>\n",
              "      <td>[{\"id\": 270, \"name\": \"ocean\"}, {\"id\": 726, \"na...</td>\n",
              "      <td>en</td>\n",
              "      <td>Pirates of the Caribbean: At World's End</td>\n",
              "      <td>Captain Barbossa, long believed to be dead, ha...</td>\n",
              "      <td>139.082615</td>\n",
              "      <td>[{\"name\": \"Walt Disney Pictures\", \"id\": 2}, {\"...</td>\n",
              "      <td>[{\"iso_3166_1\": \"US\", \"name\": \"United States o...</td>\n",
              "      <td>2007-05-19</td>\n",
              "      <td>961000000</td>\n",
              "      <td>169.0</td>\n",
              "      <td>[{\"iso_639_1\": \"en\", \"name\": \"English\"}]</td>\n",
              "      <td>Released</td>\n",
              "      <td>At the end of the world, the adventure begins.</td>\n",
              "      <td>Pirates of the Caribbean: At World's End</td>\n",
              "      <td>6.9</td>\n",
              "      <td>4500</td>\n",
              "    </tr>\n",
              "    <tr>\n",
              "      <th>2</th>\n",
              "      <td>245000000</td>\n",
              "      <td>[{\"id\": 28, \"name\": \"Action\"}, {\"id\": 12, \"nam...</td>\n",
              "      <td>http://www.sonypictures.com/movies/spectre/</td>\n",
              "      <td>206647</td>\n",
              "      <td>[{\"id\": 470, \"name\": \"spy\"}, {\"id\": 818, \"name...</td>\n",
              "      <td>en</td>\n",
              "      <td>Spectre</td>\n",
              "      <td>A cryptic message from Bond’s past sends him o...</td>\n",
              "      <td>107.376788</td>\n",
              "      <td>[{\"name\": \"Columbia Pictures\", \"id\": 5}, {\"nam...</td>\n",
              "      <td>[{\"iso_3166_1\": \"GB\", \"name\": \"United Kingdom\"...</td>\n",
              "      <td>2015-10-26</td>\n",
              "      <td>880674609</td>\n",
              "      <td>148.0</td>\n",
              "      <td>[{\"iso_639_1\": \"fr\", \"name\": \"Fran\\u00e7ais\"},...</td>\n",
              "      <td>Released</td>\n",
              "      <td>A Plan No One Escapes</td>\n",
              "      <td>Spectre</td>\n",
              "      <td>6.3</td>\n",
              "      <td>4466</td>\n",
              "    </tr>\n",
              "    <tr>\n",
              "      <th>3</th>\n",
              "      <td>250000000</td>\n",
              "      <td>[{\"id\": 28, \"name\": \"Action\"}, {\"id\": 80, \"nam...</td>\n",
              "      <td>http://www.thedarkknightrises.com/</td>\n",
              "      <td>49026</td>\n",
              "      <td>[{\"id\": 849, \"name\": \"dc comics\"}, {\"id\": 853,...</td>\n",
              "      <td>en</td>\n",
              "      <td>The Dark Knight Rises</td>\n",
              "      <td>Following the death of District Attorney Harve...</td>\n",
              "      <td>112.312950</td>\n",
              "      <td>[{\"name\": \"Legendary Pictures\", \"id\": 923}, {\"...</td>\n",
              "      <td>[{\"iso_3166_1\": \"US\", \"name\": \"United States o...</td>\n",
              "      <td>2012-07-16</td>\n",
              "      <td>1084939099</td>\n",
              "      <td>165.0</td>\n",
              "      <td>[{\"iso_639_1\": \"en\", \"name\": \"English\"}]</td>\n",
              "      <td>Released</td>\n",
              "      <td>The Legend Ends</td>\n",
              "      <td>The Dark Knight Rises</td>\n",
              "      <td>7.6</td>\n",
              "      <td>9106</td>\n",
              "    </tr>\n",
              "    <tr>\n",
              "      <th>4</th>\n",
              "      <td>260000000</td>\n",
              "      <td>[{\"id\": 28, \"name\": \"Action\"}, {\"id\": 12, \"nam...</td>\n",
              "      <td>http://movies.disney.com/john-carter</td>\n",
              "      <td>49529</td>\n",
              "      <td>[{\"id\": 818, \"name\": \"based on novel\"}, {\"id\":...</td>\n",
              "      <td>en</td>\n",
              "      <td>John Carter</td>\n",
              "      <td>John Carter is a war-weary, former military ca...</td>\n",
              "      <td>43.926995</td>\n",
              "      <td>[{\"name\": \"Walt Disney Pictures\", \"id\": 2}]</td>\n",
              "      <td>[{\"iso_3166_1\": \"US\", \"name\": \"United States o...</td>\n",
              "      <td>2012-03-07</td>\n",
              "      <td>284139100</td>\n",
              "      <td>132.0</td>\n",
              "      <td>[{\"iso_639_1\": \"en\", \"name\": \"English\"}]</td>\n",
              "      <td>Released</td>\n",
              "      <td>Lost in our world, found in another.</td>\n",
              "      <td>John Carter</td>\n",
              "      <td>6.1</td>\n",
              "      <td>2124</td>\n",
              "    </tr>\n",
              "  </tbody>\n",
              "</table>\n",
              "</div>"
            ],
            "text/plain": [
              "      budget                                             genres  \\\n",
              "0  237000000  [{\"id\": 28, \"name\": \"Action\"}, {\"id\": 12, \"nam...   \n",
              "1  300000000  [{\"id\": 12, \"name\": \"Adventure\"}, {\"id\": 14, \"...   \n",
              "2  245000000  [{\"id\": 28, \"name\": \"Action\"}, {\"id\": 12, \"nam...   \n",
              "3  250000000  [{\"id\": 28, \"name\": \"Action\"}, {\"id\": 80, \"nam...   \n",
              "4  260000000  [{\"id\": 28, \"name\": \"Action\"}, {\"id\": 12, \"nam...   \n",
              "\n",
              "                                       homepage      id  \\\n",
              "0                   http://www.avatarmovie.com/   19995   \n",
              "1  http://disney.go.com/disneypictures/pirates/     285   \n",
              "2   http://www.sonypictures.com/movies/spectre/  206647   \n",
              "3            http://www.thedarkknightrises.com/   49026   \n",
              "4          http://movies.disney.com/john-carter   49529   \n",
              "\n",
              "                                            keywords original_language  \\\n",
              "0  [{\"id\": 1463, \"name\": \"culture clash\"}, {\"id\":...                en   \n",
              "1  [{\"id\": 270, \"name\": \"ocean\"}, {\"id\": 726, \"na...                en   \n",
              "2  [{\"id\": 470, \"name\": \"spy\"}, {\"id\": 818, \"name...                en   \n",
              "3  [{\"id\": 849, \"name\": \"dc comics\"}, {\"id\": 853,...                en   \n",
              "4  [{\"id\": 818, \"name\": \"based on novel\"}, {\"id\":...                en   \n",
              "\n",
              "                             original_title  \\\n",
              "0                                    Avatar   \n",
              "1  Pirates of the Caribbean: At World's End   \n",
              "2                                   Spectre   \n",
              "3                     The Dark Knight Rises   \n",
              "4                               John Carter   \n",
              "\n",
              "                                            overview  popularity  \\\n",
              "0  In the 22nd century, a paraplegic Marine is di...  150.437577   \n",
              "1  Captain Barbossa, long believed to be dead, ha...  139.082615   \n",
              "2  A cryptic message from Bond’s past sends him o...  107.376788   \n",
              "3  Following the death of District Attorney Harve...  112.312950   \n",
              "4  John Carter is a war-weary, former military ca...   43.926995   \n",
              "\n",
              "                                production_companies  \\\n",
              "0  [{\"name\": \"Ingenious Film Partners\", \"id\": 289...   \n",
              "1  [{\"name\": \"Walt Disney Pictures\", \"id\": 2}, {\"...   \n",
              "2  [{\"name\": \"Columbia Pictures\", \"id\": 5}, {\"nam...   \n",
              "3  [{\"name\": \"Legendary Pictures\", \"id\": 923}, {\"...   \n",
              "4        [{\"name\": \"Walt Disney Pictures\", \"id\": 2}]   \n",
              "\n",
              "                                production_countries release_date     revenue  \\\n",
              "0  [{\"iso_3166_1\": \"US\", \"name\": \"United States o...   2009-12-10  2787965087   \n",
              "1  [{\"iso_3166_1\": \"US\", \"name\": \"United States o...   2007-05-19   961000000   \n",
              "2  [{\"iso_3166_1\": \"GB\", \"name\": \"United Kingdom\"...   2015-10-26   880674609   \n",
              "3  [{\"iso_3166_1\": \"US\", \"name\": \"United States o...   2012-07-16  1084939099   \n",
              "4  [{\"iso_3166_1\": \"US\", \"name\": \"United States o...   2012-03-07   284139100   \n",
              "\n",
              "   runtime                                   spoken_languages    status  \\\n",
              "0    162.0  [{\"iso_639_1\": \"en\", \"name\": \"English\"}, {\"iso...  Released   \n",
              "1    169.0           [{\"iso_639_1\": \"en\", \"name\": \"English\"}]  Released   \n",
              "2    148.0  [{\"iso_639_1\": \"fr\", \"name\": \"Fran\\u00e7ais\"},...  Released   \n",
              "3    165.0           [{\"iso_639_1\": \"en\", \"name\": \"English\"}]  Released   \n",
              "4    132.0           [{\"iso_639_1\": \"en\", \"name\": \"English\"}]  Released   \n",
              "\n",
              "                                          tagline  \\\n",
              "0                     Enter the World of Pandora.   \n",
              "1  At the end of the world, the adventure begins.   \n",
              "2                           A Plan No One Escapes   \n",
              "3                                 The Legend Ends   \n",
              "4            Lost in our world, found in another.   \n",
              "\n",
              "                                      title  vote_average  vote_count  \n",
              "0                                    Avatar           7.2       11800  \n",
              "1  Pirates of the Caribbean: At World's End           6.9        4500  \n",
              "2                                   Spectre           6.3        4466  \n",
              "3                     The Dark Knight Rises           7.6        9106  \n",
              "4                               John Carter           6.1        2124  "
            ]
          },
          "metadata": {
            "tags": []
          },
          "execution_count": 2
        }
      ]
    },
    {
      "cell_type": "markdown",
      "metadata": {
        "papermill": {
          "duration": 0.018985,
          "end_time": "2020-12-16T18:05:47.374044",
          "exception": false,
          "start_time": "2020-12-16T18:05:47.355059",
          "status": "completed"
        },
        "tags": [],
        "id": "mHznOv-S6Jsc"
      },
      "source": [
        "# Wrangling the data"
      ]
    },
    {
      "cell_type": "markdown",
      "metadata": {
        "papermill": {
          "duration": 0.018924,
          "end_time": "2020-12-16T18:05:47.412751",
          "exception": false,
          "start_time": "2020-12-16T18:05:47.393827",
          "status": "completed"
        },
        "tags": [],
        "id": "Rcq91wFb6Jsc"
      },
      "source": [
        "\n",
        "Data wrangling is the process of gathering, selecting, and transforming data to answer an analytical question."
      ]
    },
    {
      "cell_type": "code",
      "metadata": {
        "execution": {
          "iopub.execute_input": "2020-12-16T18:05:47.463067Z",
          "iopub.status.busy": "2020-12-16T18:05:47.462182Z",
          "iopub.status.idle": "2020-12-16T18:05:47.475600Z",
          "shell.execute_reply": "2020-12-16T18:05:47.476286Z"
        },
        "papermill": {
          "duration": 0.044321,
          "end_time": "2020-12-16T18:05:47.476448",
          "exception": false,
          "start_time": "2020-12-16T18:05:47.432127",
          "status": "completed"
        },
        "tags": [],
        "id": "OUt0R4oQ6Jsd",
        "outputId": "cd90f26e-7f35-45e9-9fa3-60b67e7d383d"
      },
      "source": [
        "#detailed information about dataset\n",
        "data.info()"
      ],
      "execution_count": null,
      "outputs": [
        {
          "output_type": "stream",
          "text": [
            "<class 'pandas.core.frame.DataFrame'>\n",
            "RangeIndex: 4803 entries, 0 to 4802\n",
            "Data columns (total 20 columns):\n",
            " #   Column                Non-Null Count  Dtype  \n",
            "---  ------                --------------  -----  \n",
            " 0   budget                4803 non-null   int64  \n",
            " 1   genres                4803 non-null   object \n",
            " 2   homepage              1712 non-null   object \n",
            " 3   id                    4803 non-null   int64  \n",
            " 4   keywords              4803 non-null   object \n",
            " 5   original_language     4803 non-null   object \n",
            " 6   original_title        4803 non-null   object \n",
            " 7   overview              4800 non-null   object \n",
            " 8   popularity            4803 non-null   float64\n",
            " 9   production_companies  4803 non-null   object \n",
            " 10  production_countries  4803 non-null   object \n",
            " 11  release_date          4802 non-null   object \n",
            " 12  revenue               4803 non-null   int64  \n",
            " 13  runtime               4801 non-null   float64\n",
            " 14  spoken_languages      4803 non-null   object \n",
            " 15  status                4803 non-null   object \n",
            " 16  tagline               3959 non-null   object \n",
            " 17  title                 4803 non-null   object \n",
            " 18  vote_average          4803 non-null   float64\n",
            " 19  vote_count            4803 non-null   int64  \n",
            "dtypes: float64(3), int64(4), object(13)\n",
            "memory usage: 750.6+ KB\n"
          ],
          "name": "stdout"
        }
      ]
    },
    {
      "cell_type": "code",
      "metadata": {
        "execution": {
          "iopub.execute_input": "2020-12-16T18:05:47.520420Z",
          "iopub.status.busy": "2020-12-16T18:05:47.519683Z",
          "iopub.status.idle": "2020-12-16T18:05:47.523270Z",
          "shell.execute_reply": "2020-12-16T18:05:47.523821Z"
        },
        "papermill": {
          "duration": 0.027383,
          "end_time": "2020-12-16T18:05:47.523960",
          "exception": false,
          "start_time": "2020-12-16T18:05:47.496577",
          "status": "completed"
        },
        "tags": [],
        "id": "aI8knBVz6Jsd",
        "outputId": "0bbd5250-a7d0-4930-b457-2f295801df09"
      },
      "source": [
        "#lenght of our data\n",
        "print(len(data))"
      ],
      "execution_count": null,
      "outputs": [
        {
          "output_type": "stream",
          "text": [
            "4803\n"
          ],
          "name": "stdout"
        }
      ]
    },
    {
      "cell_type": "code",
      "metadata": {
        "execution": {
          "iopub.execute_input": "2020-12-16T18:05:47.571676Z",
          "iopub.status.busy": "2020-12-16T18:05:47.571099Z",
          "iopub.status.idle": "2020-12-16T18:05:47.598826Z",
          "shell.execute_reply": "2020-12-16T18:05:47.598348Z"
        },
        "papermill": {
          "duration": 0.054291,
          "end_time": "2020-12-16T18:05:47.598943",
          "exception": false,
          "start_time": "2020-12-16T18:05:47.544652",
          "status": "completed"
        },
        "tags": [],
        "id": "y3fCvMn56Jse",
        "outputId": "8d21ea59-1c62-476a-b82d-e0e9a2851484"
      },
      "source": [
        "#describe our data\n",
        "data.describe()"
      ],
      "execution_count": null,
      "outputs": [
        {
          "output_type": "execute_result",
          "data": {
            "text/html": [
              "<div>\n",
              "<style scoped>\n",
              "    .dataframe tbody tr th:only-of-type {\n",
              "        vertical-align: middle;\n",
              "    }\n",
              "\n",
              "    .dataframe tbody tr th {\n",
              "        vertical-align: top;\n",
              "    }\n",
              "\n",
              "    .dataframe thead th {\n",
              "        text-align: right;\n",
              "    }\n",
              "</style>\n",
              "<table border=\"1\" class=\"dataframe\">\n",
              "  <thead>\n",
              "    <tr style=\"text-align: right;\">\n",
              "      <th></th>\n",
              "      <th>budget</th>\n",
              "      <th>id</th>\n",
              "      <th>popularity</th>\n",
              "      <th>revenue</th>\n",
              "      <th>runtime</th>\n",
              "      <th>vote_average</th>\n",
              "      <th>vote_count</th>\n",
              "    </tr>\n",
              "  </thead>\n",
              "  <tbody>\n",
              "    <tr>\n",
              "      <th>count</th>\n",
              "      <td>4.803000e+03</td>\n",
              "      <td>4803.000000</td>\n",
              "      <td>4803.000000</td>\n",
              "      <td>4.803000e+03</td>\n",
              "      <td>4801.000000</td>\n",
              "      <td>4803.000000</td>\n",
              "      <td>4803.000000</td>\n",
              "    </tr>\n",
              "    <tr>\n",
              "      <th>mean</th>\n",
              "      <td>2.904504e+07</td>\n",
              "      <td>57165.484281</td>\n",
              "      <td>21.492301</td>\n",
              "      <td>8.226064e+07</td>\n",
              "      <td>106.875859</td>\n",
              "      <td>6.092172</td>\n",
              "      <td>690.217989</td>\n",
              "    </tr>\n",
              "    <tr>\n",
              "      <th>std</th>\n",
              "      <td>4.072239e+07</td>\n",
              "      <td>88694.614033</td>\n",
              "      <td>31.816650</td>\n",
              "      <td>1.628571e+08</td>\n",
              "      <td>22.611935</td>\n",
              "      <td>1.194612</td>\n",
              "      <td>1234.585891</td>\n",
              "    </tr>\n",
              "    <tr>\n",
              "      <th>min</th>\n",
              "      <td>0.000000e+00</td>\n",
              "      <td>5.000000</td>\n",
              "      <td>0.000000</td>\n",
              "      <td>0.000000e+00</td>\n",
              "      <td>0.000000</td>\n",
              "      <td>0.000000</td>\n",
              "      <td>0.000000</td>\n",
              "    </tr>\n",
              "    <tr>\n",
              "      <th>25%</th>\n",
              "      <td>7.900000e+05</td>\n",
              "      <td>9014.500000</td>\n",
              "      <td>4.668070</td>\n",
              "      <td>0.000000e+00</td>\n",
              "      <td>94.000000</td>\n",
              "      <td>5.600000</td>\n",
              "      <td>54.000000</td>\n",
              "    </tr>\n",
              "    <tr>\n",
              "      <th>50%</th>\n",
              "      <td>1.500000e+07</td>\n",
              "      <td>14629.000000</td>\n",
              "      <td>12.921594</td>\n",
              "      <td>1.917000e+07</td>\n",
              "      <td>103.000000</td>\n",
              "      <td>6.200000</td>\n",
              "      <td>235.000000</td>\n",
              "    </tr>\n",
              "    <tr>\n",
              "      <th>75%</th>\n",
              "      <td>4.000000e+07</td>\n",
              "      <td>58610.500000</td>\n",
              "      <td>28.313505</td>\n",
              "      <td>9.291719e+07</td>\n",
              "      <td>118.000000</td>\n",
              "      <td>6.800000</td>\n",
              "      <td>737.000000</td>\n",
              "    </tr>\n",
              "    <tr>\n",
              "      <th>max</th>\n",
              "      <td>3.800000e+08</td>\n",
              "      <td>459488.000000</td>\n",
              "      <td>875.581305</td>\n",
              "      <td>2.787965e+09</td>\n",
              "      <td>338.000000</td>\n",
              "      <td>10.000000</td>\n",
              "      <td>13752.000000</td>\n",
              "    </tr>\n",
              "  </tbody>\n",
              "</table>\n",
              "</div>"
            ],
            "text/plain": [
              "             budget             id   popularity       revenue      runtime  \\\n",
              "count  4.803000e+03    4803.000000  4803.000000  4.803000e+03  4801.000000   \n",
              "mean   2.904504e+07   57165.484281    21.492301  8.226064e+07   106.875859   \n",
              "std    4.072239e+07   88694.614033    31.816650  1.628571e+08    22.611935   \n",
              "min    0.000000e+00       5.000000     0.000000  0.000000e+00     0.000000   \n",
              "25%    7.900000e+05    9014.500000     4.668070  0.000000e+00    94.000000   \n",
              "50%    1.500000e+07   14629.000000    12.921594  1.917000e+07   103.000000   \n",
              "75%    4.000000e+07   58610.500000    28.313505  9.291719e+07   118.000000   \n",
              "max    3.800000e+08  459488.000000   875.581305  2.787965e+09   338.000000   \n",
              "\n",
              "       vote_average    vote_count  \n",
              "count   4803.000000   4803.000000  \n",
              "mean       6.092172    690.217989  \n",
              "std        1.194612   1234.585891  \n",
              "min        0.000000      0.000000  \n",
              "25%        5.600000     54.000000  \n",
              "50%        6.200000    235.000000  \n",
              "75%        6.800000    737.000000  \n",
              "max       10.000000  13752.000000  "
            ]
          },
          "metadata": {
            "tags": []
          },
          "execution_count": 5
        }
      ]
    },
    {
      "cell_type": "code",
      "metadata": {
        "execution": {
          "iopub.execute_input": "2020-12-16T18:05:47.645524Z",
          "iopub.status.busy": "2020-12-16T18:05:47.644634Z",
          "iopub.status.idle": "2020-12-16T18:05:47.647079Z",
          "shell.execute_reply": "2020-12-16T18:05:47.647513Z"
        },
        "papermill": {
          "duration": 0.027476,
          "end_time": "2020-12-16T18:05:47.647628",
          "exception": false,
          "start_time": "2020-12-16T18:05:47.620152",
          "status": "completed"
        },
        "tags": [],
        "id": "PS_FuuiZ6Jsf"
      },
      "source": [
        "#columns names\n",
        "columns = data.columns\n",
        "#print(columns)"
      ],
      "execution_count": null,
      "outputs": []
    },
    {
      "cell_type": "markdown",
      "metadata": {
        "papermill": {
          "duration": 0.020758,
          "end_time": "2020-12-16T18:05:47.690715",
          "exception": false,
          "start_time": "2020-12-16T18:05:47.669957",
          "status": "completed"
        },
        "tags": [],
        "id": "BFNp6wzp6Jsg"
      },
      "source": [
        "# Cleaning our data\n",
        "\n"
      ]
    },
    {
      "cell_type": "markdown",
      "metadata": {
        "papermill": {
          "duration": 0.020896,
          "end_time": "2020-12-16T18:05:47.732670",
          "exception": false,
          "start_time": "2020-12-16T18:05:47.711774",
          "status": "completed"
        },
        "tags": [],
        "id": "VEefMBep6Jsg"
      },
      "source": [
        "first detect which columns is not important for me to delete it from our original data "
      ]
    },
    {
      "cell_type": "code",
      "metadata": {
        "execution": {
          "iopub.execute_input": "2020-12-16T18:05:47.783509Z",
          "iopub.status.busy": "2020-12-16T18:05:47.782665Z",
          "iopub.status.idle": "2020-12-16T18:05:47.785078Z",
          "shell.execute_reply": "2020-12-16T18:05:47.785556Z"
        },
        "papermill": {
          "duration": 0.031905,
          "end_time": "2020-12-16T18:05:47.785673",
          "exception": false,
          "start_time": "2020-12-16T18:05:47.753768",
          "status": "completed"
        },
        "tags": [],
        "id": "EDGRqogZ6Jsg"
      },
      "source": [
        "#deleted columns \n",
        "deleted_columns = [ 'id', 'popularity', 'homepage', 'keywords', 'tagline', 'overview', 'production_companies', 'vote_average']\n",
        "#drop it from our data\n",
        "data.drop(deleted_columns,axis = 1 ,inplace = True)\n"
      ],
      "execution_count": null,
      "outputs": []
    },
    {
      "cell_type": "code",
      "metadata": {
        "execution": {
          "iopub.execute_input": "2020-12-16T18:05:47.839670Z",
          "iopub.status.busy": "2020-12-16T18:05:47.838758Z",
          "iopub.status.idle": "2020-12-16T18:05:47.849427Z",
          "shell.execute_reply": "2020-12-16T18:05:47.848913Z"
        },
        "papermill": {
          "duration": 0.042813,
          "end_time": "2020-12-16T18:05:47.849528",
          "exception": false,
          "start_time": "2020-12-16T18:05:47.806715",
          "status": "completed"
        },
        "tags": [],
        "id": "ZDKUY41N6Jsh",
        "outputId": "c8562af2-4136-460b-88b0-38c0cdd9031d"
      },
      "source": [
        "data.info()"
      ],
      "execution_count": null,
      "outputs": [
        {
          "output_type": "stream",
          "text": [
            "<class 'pandas.core.frame.DataFrame'>\n",
            "RangeIndex: 4803 entries, 0 to 4802\n",
            "Data columns (total 12 columns):\n",
            " #   Column                Non-Null Count  Dtype  \n",
            "---  ------                --------------  -----  \n",
            " 0   budget                4803 non-null   int64  \n",
            " 1   genres                4803 non-null   object \n",
            " 2   original_language     4803 non-null   object \n",
            " 3   original_title        4803 non-null   object \n",
            " 4   production_countries  4803 non-null   object \n",
            " 5   release_date          4802 non-null   object \n",
            " 6   revenue               4803 non-null   int64  \n",
            " 7   runtime               4801 non-null   float64\n",
            " 8   spoken_languages      4803 non-null   object \n",
            " 9   status                4803 non-null   object \n",
            " 10  title                 4803 non-null   object \n",
            " 11  vote_count            4803 non-null   int64  \n",
            "dtypes: float64(1), int64(3), object(8)\n",
            "memory usage: 450.4+ KB\n"
          ],
          "name": "stdout"
        }
      ]
    },
    {
      "cell_type": "code",
      "metadata": {
        "execution": {
          "iopub.execute_input": "2020-12-16T18:05:47.914378Z",
          "iopub.status.busy": "2020-12-16T18:05:47.913483Z",
          "iopub.status.idle": "2020-12-16T18:05:47.918079Z",
          "shell.execute_reply": "2020-12-16T18:05:47.917593Z"
        },
        "papermill": {
          "duration": 0.044377,
          "end_time": "2020-12-16T18:05:47.918195",
          "exception": false,
          "start_time": "2020-12-16T18:05:47.873818",
          "status": "completed"
        },
        "tags": [],
        "id": "-SeTq0i86Jsh",
        "outputId": "537ffe9b-7389-431b-ec78-f0b5666317b1"
      },
      "source": [
        "data.head()"
      ],
      "execution_count": null,
      "outputs": [
        {
          "output_type": "execute_result",
          "data": {
            "text/html": [
              "<div>\n",
              "<style scoped>\n",
              "    .dataframe tbody tr th:only-of-type {\n",
              "        vertical-align: middle;\n",
              "    }\n",
              "\n",
              "    .dataframe tbody tr th {\n",
              "        vertical-align: top;\n",
              "    }\n",
              "\n",
              "    .dataframe thead th {\n",
              "        text-align: right;\n",
              "    }\n",
              "</style>\n",
              "<table border=\"1\" class=\"dataframe\">\n",
              "  <thead>\n",
              "    <tr style=\"text-align: right;\">\n",
              "      <th></th>\n",
              "      <th>budget</th>\n",
              "      <th>genres</th>\n",
              "      <th>original_language</th>\n",
              "      <th>original_title</th>\n",
              "      <th>production_countries</th>\n",
              "      <th>release_date</th>\n",
              "      <th>revenue</th>\n",
              "      <th>runtime</th>\n",
              "      <th>spoken_languages</th>\n",
              "      <th>status</th>\n",
              "      <th>title</th>\n",
              "      <th>vote_count</th>\n",
              "    </tr>\n",
              "  </thead>\n",
              "  <tbody>\n",
              "    <tr>\n",
              "      <th>0</th>\n",
              "      <td>237000000</td>\n",
              "      <td>[{\"id\": 28, \"name\": \"Action\"}, {\"id\": 12, \"nam...</td>\n",
              "      <td>en</td>\n",
              "      <td>Avatar</td>\n",
              "      <td>[{\"iso_3166_1\": \"US\", \"name\": \"United States o...</td>\n",
              "      <td>2009-12-10</td>\n",
              "      <td>2787965087</td>\n",
              "      <td>162.0</td>\n",
              "      <td>[{\"iso_639_1\": \"en\", \"name\": \"English\"}, {\"iso...</td>\n",
              "      <td>Released</td>\n",
              "      <td>Avatar</td>\n",
              "      <td>11800</td>\n",
              "    </tr>\n",
              "    <tr>\n",
              "      <th>1</th>\n",
              "      <td>300000000</td>\n",
              "      <td>[{\"id\": 12, \"name\": \"Adventure\"}, {\"id\": 14, \"...</td>\n",
              "      <td>en</td>\n",
              "      <td>Pirates of the Caribbean: At World's End</td>\n",
              "      <td>[{\"iso_3166_1\": \"US\", \"name\": \"United States o...</td>\n",
              "      <td>2007-05-19</td>\n",
              "      <td>961000000</td>\n",
              "      <td>169.0</td>\n",
              "      <td>[{\"iso_639_1\": \"en\", \"name\": \"English\"}]</td>\n",
              "      <td>Released</td>\n",
              "      <td>Pirates of the Caribbean: At World's End</td>\n",
              "      <td>4500</td>\n",
              "    </tr>\n",
              "    <tr>\n",
              "      <th>2</th>\n",
              "      <td>245000000</td>\n",
              "      <td>[{\"id\": 28, \"name\": \"Action\"}, {\"id\": 12, \"nam...</td>\n",
              "      <td>en</td>\n",
              "      <td>Spectre</td>\n",
              "      <td>[{\"iso_3166_1\": \"GB\", \"name\": \"United Kingdom\"...</td>\n",
              "      <td>2015-10-26</td>\n",
              "      <td>880674609</td>\n",
              "      <td>148.0</td>\n",
              "      <td>[{\"iso_639_1\": \"fr\", \"name\": \"Fran\\u00e7ais\"},...</td>\n",
              "      <td>Released</td>\n",
              "      <td>Spectre</td>\n",
              "      <td>4466</td>\n",
              "    </tr>\n",
              "    <tr>\n",
              "      <th>3</th>\n",
              "      <td>250000000</td>\n",
              "      <td>[{\"id\": 28, \"name\": \"Action\"}, {\"id\": 80, \"nam...</td>\n",
              "      <td>en</td>\n",
              "      <td>The Dark Knight Rises</td>\n",
              "      <td>[{\"iso_3166_1\": \"US\", \"name\": \"United States o...</td>\n",
              "      <td>2012-07-16</td>\n",
              "      <td>1084939099</td>\n",
              "      <td>165.0</td>\n",
              "      <td>[{\"iso_639_1\": \"en\", \"name\": \"English\"}]</td>\n",
              "      <td>Released</td>\n",
              "      <td>The Dark Knight Rises</td>\n",
              "      <td>9106</td>\n",
              "    </tr>\n",
              "    <tr>\n",
              "      <th>4</th>\n",
              "      <td>260000000</td>\n",
              "      <td>[{\"id\": 28, \"name\": \"Action\"}, {\"id\": 12, \"nam...</td>\n",
              "      <td>en</td>\n",
              "      <td>John Carter</td>\n",
              "      <td>[{\"iso_3166_1\": \"US\", \"name\": \"United States o...</td>\n",
              "      <td>2012-03-07</td>\n",
              "      <td>284139100</td>\n",
              "      <td>132.0</td>\n",
              "      <td>[{\"iso_639_1\": \"en\", \"name\": \"English\"}]</td>\n",
              "      <td>Released</td>\n",
              "      <td>John Carter</td>\n",
              "      <td>2124</td>\n",
              "    </tr>\n",
              "  </tbody>\n",
              "</table>\n",
              "</div>"
            ],
            "text/plain": [
              "      budget                                             genres  \\\n",
              "0  237000000  [{\"id\": 28, \"name\": \"Action\"}, {\"id\": 12, \"nam...   \n",
              "1  300000000  [{\"id\": 12, \"name\": \"Adventure\"}, {\"id\": 14, \"...   \n",
              "2  245000000  [{\"id\": 28, \"name\": \"Action\"}, {\"id\": 12, \"nam...   \n",
              "3  250000000  [{\"id\": 28, \"name\": \"Action\"}, {\"id\": 80, \"nam...   \n",
              "4  260000000  [{\"id\": 28, \"name\": \"Action\"}, {\"id\": 12, \"nam...   \n",
              "\n",
              "  original_language                            original_title  \\\n",
              "0                en                                    Avatar   \n",
              "1                en  Pirates of the Caribbean: At World's End   \n",
              "2                en                                   Spectre   \n",
              "3                en                     The Dark Knight Rises   \n",
              "4                en                               John Carter   \n",
              "\n",
              "                                production_countries release_date     revenue  \\\n",
              "0  [{\"iso_3166_1\": \"US\", \"name\": \"United States o...   2009-12-10  2787965087   \n",
              "1  [{\"iso_3166_1\": \"US\", \"name\": \"United States o...   2007-05-19   961000000   \n",
              "2  [{\"iso_3166_1\": \"GB\", \"name\": \"United Kingdom\"...   2015-10-26   880674609   \n",
              "3  [{\"iso_3166_1\": \"US\", \"name\": \"United States o...   2012-07-16  1084939099   \n",
              "4  [{\"iso_3166_1\": \"US\", \"name\": \"United States o...   2012-03-07   284139100   \n",
              "\n",
              "   runtime                                   spoken_languages    status  \\\n",
              "0    162.0  [{\"iso_639_1\": \"en\", \"name\": \"English\"}, {\"iso...  Released   \n",
              "1    169.0           [{\"iso_639_1\": \"en\", \"name\": \"English\"}]  Released   \n",
              "2    148.0  [{\"iso_639_1\": \"fr\", \"name\": \"Fran\\u00e7ais\"},...  Released   \n",
              "3    165.0           [{\"iso_639_1\": \"en\", \"name\": \"English\"}]  Released   \n",
              "4    132.0           [{\"iso_639_1\": \"en\", \"name\": \"English\"}]  Released   \n",
              "\n",
              "                                      title  vote_count  \n",
              "0                                    Avatar       11800  \n",
              "1  Pirates of the Caribbean: At World's End        4500  \n",
              "2                                   Spectre        4466  \n",
              "3                     The Dark Knight Rises        9106  \n",
              "4                               John Carter        2124  "
            ]
          },
          "metadata": {
            "tags": []
          },
          "execution_count": 9
        }
      ]
    },
    {
      "cell_type": "code",
      "metadata": {
        "execution": {
          "iopub.execute_input": "2020-12-16T18:05:47.972676Z",
          "iopub.status.busy": "2020-12-16T18:05:47.971704Z",
          "iopub.status.idle": "2020-12-16T18:05:47.999726Z",
          "shell.execute_reply": "2020-12-16T18:05:47.999111Z"
        },
        "papermill": {
          "duration": 0.057862,
          "end_time": "2020-12-16T18:05:47.999870",
          "exception": false,
          "start_time": "2020-12-16T18:05:47.942008",
          "status": "completed"
        },
        "tags": [],
        "id": "qYW4lMXj6Jsi",
        "outputId": "d9916fac-655a-4616-8bdd-e698f946d518"
      },
      "source": [
        "#removing nan object  or  0 \n",
        "columns = ['budget', 'revenue']\n",
        "data[columns] = data[columns].replace(0, np.NaN)\n",
        "data.dropna(subset = columns, inplace = True)\n",
        "rows, col = data.shape\n",
        "print(rows,col)"
      ],
      "execution_count": null,
      "outputs": [
        {
          "output_type": "stream",
          "text": [
            "3229 12\n"
          ],
          "name": "stdout"
        }
      ]
    },
    {
      "cell_type": "markdown",
      "metadata": {
        "papermill": {
          "duration": 0.023262,
          "end_time": "2020-12-16T18:05:48.047317",
          "exception": false,
          "start_time": "2020-12-16T18:05:48.024055",
          "status": "completed"
        },
        "tags": [],
        "id": "MuuK9OBN6Jsi"
      },
      "source": [
        "# Exploratory Data Analysis¶\n",
        "\n",
        "\n",
        "We will now compute statistics and create visualizations with the goal of addressing the research questions that we posed in the Introduction section.\n",
        "\n",
        "\n",
        "\n",
        "\n"
      ]
    },
    {
      "cell_type": "markdown",
      "metadata": {
        "papermill": {
          "duration": 0.023647,
          "end_time": "2020-12-16T18:05:48.094786",
          "exception": false,
          "start_time": "2020-12-16T18:05:48.071139",
          "status": "completed"
        },
        "tags": [],
        "id": "0MZeAo916Jsl"
      },
      "source": [
        "# **Q1** : 1. What is the average runtime of all movies?"
      ]
    },
    {
      "cell_type": "code",
      "metadata": {
        "execution": {
          "iopub.execute_input": "2020-12-16T18:05:48.149618Z",
          "iopub.status.busy": "2020-12-16T18:05:48.148743Z",
          "iopub.status.idle": "2020-12-16T18:05:48.152141Z",
          "shell.execute_reply": "2020-12-16T18:05:48.152657Z"
        },
        "papermill": {
          "duration": 0.033156,
          "end_time": "2020-12-16T18:05:48.152776",
          "exception": false,
          "start_time": "2020-12-16T18:05:48.119620",
          "status": "completed"
        },
        "tags": [],
        "id": "P5AM2ba56Jsm",
        "outputId": "7b00457c-e154-4fa4-bd5d-0f38bcf5b1dc"
      },
      "source": [
        "# Average runtime of movies\n",
        "data['runtime'].mean()"
      ],
      "execution_count": null,
      "outputs": [
        {
          "output_type": "execute_result",
          "data": {
            "text/plain": [
              "110.72437287085785"
            ]
          },
          "metadata": {
            "tags": []
          },
          "execution_count": 11
        }
      ]
    },
    {
      "cell_type": "code",
      "metadata": {
        "execution": {
          "iopub.execute_input": "2020-12-16T18:05:48.205240Z",
          "iopub.status.busy": "2020-12-16T18:05:48.204609Z",
          "iopub.status.idle": "2020-12-16T18:05:48.519289Z",
          "shell.execute_reply": "2020-12-16T18:05:48.519869Z"
        },
        "papermill": {
          "duration": 0.343759,
          "end_time": "2020-12-16T18:05:48.520031",
          "exception": false,
          "start_time": "2020-12-16T18:05:48.176272",
          "status": "completed"
        },
        "tags": [],
        "id": "dRHXnNCz6Jsn",
        "outputId": "285bb8ee-d8bc-47a1-b38c-f2041d19ed79"
      },
      "source": [
        "#plot relation between runtime and budget\n",
        "plt.title(\"Relation between Runtime and N.of movies\")\n",
        "plt.xlabel(\"runtime of movies \")\n",
        "plt.ylabel(\"number of movies \")\n",
        "plt.hist(data[\"runtime\"],bins= 30,color=\"y\" )\n",
        "plt.show()"
      ],
      "execution_count": null,
      "outputs": [
        {
          "output_type": "display_data",
          "data": {
            "image/png": "[encoded data removed]",
            "text/plain": [
              "<Figure size 432x288 with 1 Axes>"
            ]
          },
          "metadata": {
            "tags": [],
            "needs_background": "light"
          }
        }
      ]
    },
    {
      "cell_type": "code",
      "metadata": {
        "execution": {
          "iopub.execute_input": "2020-12-16T18:05:48.583944Z",
          "iopub.status.busy": "2020-12-16T18:05:48.582740Z",
          "iopub.status.idle": "2020-12-16T18:05:48.765624Z",
          "shell.execute_reply": "2020-12-16T18:05:48.765073Z"
        },
        "papermill": {
          "duration": 0.218671,
          "end_time": "2020-12-16T18:05:48.765724",
          "exception": false,
          "start_time": "2020-12-16T18:05:48.547053",
          "status": "completed"
        },
        "tags": [],
        "id": "aXoYh5lC6Jso",
        "outputId": "61990b76-6521-460a-a867-8031d7ea4853"
      },
      "source": [
        "#plot relation between runtime and budget\n",
        "plt.title(\"Relation Between Runtime and Budget\")\n",
        "plt.xlabel(\"runtime\")\n",
        "plt.ylabel(\"budget \")\n",
        "plt.scatter(data[\"runtime\"],data[\"budget\"], alpha=0.3,color = \"g\")\n",
        "plt.show()"
      ],
      "execution_count": null,
      "outputs": [
        {
          "output_type": "display_data",
          "data": {
            "image/png": "[encoded data removed]",
            "text/plain": [
              "<Figure size 432x288 with 1 Axes>"
            ]
          },
          "metadata": {
            "tags": [],
            "needs_background": "light"
          }
        }
      ]
    },
    {
      "cell_type": "markdown",
      "metadata": {
        "papermill": {
          "duration": 0.025924,
          "end_time": "2020-12-16T18:05:48.817957",
          "exception": false,
          "start_time": "2020-12-16T18:05:48.792033",
          "status": "completed"
        },
        "tags": [],
        "id": "oXE3jO566Jsp"
      },
      "source": [
        "# **Q2** : 2. Which are the successfull genres?"
      ]
    },
    {
      "cell_type": "code",
      "metadata": {
        "execution": {
          "iopub.execute_input": "2020-12-16T18:05:48.875591Z",
          "iopub.status.busy": "2020-12-16T18:05:48.874780Z",
          "iopub.status.idle": "2020-12-16T18:05:48.878452Z",
          "shell.execute_reply": "2020-12-16T18:05:48.878959Z"
        },
        "papermill": {
          "duration": 0.035008,
          "end_time": "2020-12-16T18:05:48.879077",
          "exception": false,
          "start_time": "2020-12-16T18:05:48.844069",
          "status": "completed"
        },
        "tags": [],
        "id": "NpDTdbZU6Jsp",
        "outputId": "435d846a-7e8c-446b-8957-ba5b2c2c7d8a"
      },
      "source": [
        "#showing types of our movies \n",
        "print(data.iloc[:,1].values)"
      ],
      "execution_count": null,
      "outputs": [
        {
          "output_type": "stream",
          "text": [
            "['[{\"id\": 28, \"name\": \"Action\"}, {\"id\": 12, \"name\": \"Adventure\"}, {\"id\": 14, \"name\": \"Fantasy\"}, {\"id\": 878, \"name\": \"Science Fiction\"}]'\n",
            " '[{\"id\": 12, \"name\": \"Adventure\"}, {\"id\": 14, \"name\": \"Fantasy\"}, {\"id\": 28, \"name\": \"Action\"}]'\n",
            " '[{\"id\": 28, \"name\": \"Action\"}, {\"id\": 12, \"name\": \"Adventure\"}, {\"id\": 80, \"name\": \"Crime\"}]'\n",
            " ...\n",
            " '[{\"id\": 80, \"name\": \"Crime\"}, {\"id\": 27, \"name\": \"Horror\"}, {\"id\": 9648, \"name\": \"Mystery\"}, {\"id\": 53, \"name\": \"Thriller\"}]'\n",
            " '[{\"id\": 878, \"name\": \"Science Fiction\"}, {\"id\": 18, \"name\": \"Drama\"}, {\"id\": 53, \"name\": \"Thriller\"}]'\n",
            " '[{\"id\": 28, \"name\": \"Action\"}, {\"id\": 80, \"name\": \"Crime\"}, {\"id\": 53, \"name\": \"Thriller\"}]']\n"
          ],
          "name": "stdout"
        }
      ]
    },
    {
      "cell_type": "code",
      "metadata": {
        "execution": {
          "iopub.execute_input": "2020-12-16T18:05:48.941527Z",
          "iopub.status.busy": "2020-12-16T18:05:48.940691Z",
          "iopub.status.idle": "2020-12-16T18:05:48.948295Z",
          "shell.execute_reply": "2020-12-16T18:05:48.947798Z"
        },
        "papermill": {
          "duration": 0.042675,
          "end_time": "2020-12-16T18:05:48.948392",
          "exception": false,
          "start_time": "2020-12-16T18:05:48.905717",
          "status": "completed"
        },
        "tags": [],
        "id": "UjaQa96P6Jsq",
        "outputId": "150630f4-ce09-4239-9cec-5ba2b42f107d"
      },
      "source": [
        "count = pd.Series(data['genres'].str.cat(sep = '|').split('|')).value_counts(ascending = False)\n",
        "count"
      ],
      "execution_count": null,
      "outputs": [
        {
          "output_type": "execute_result",
          "data": {
            "text/plain": [
              "[{\"id\": 18, \"name\": \"Drama\"}]                                                                                                                                             204\n",
              "[{\"id\": 35, \"name\": \"Comedy\"}]                                                                                                                                            197\n",
              "[{\"id\": 18, \"name\": \"Drama\"}, {\"id\": 10749, \"name\": \"Romance\"}]                                                                                                            96\n",
              "[{\"id\": 35, \"name\": \"Comedy\"}, {\"id\": 10749, \"name\": \"Romance\"}]                                                                                                           87\n",
              "[{\"id\": 35, \"name\": \"Comedy\"}, {\"id\": 18, \"name\": \"Drama\"}]                                                                                                                70\n",
              "                                                                                                                                                                         ... \n",
              "[{\"id\": 18, \"name\": \"Drama\"}, {\"id\": 53, \"name\": \"Thriller\"}, {\"id\": 9648, \"name\": \"Mystery\"}, {\"id\": 10749, \"name\": \"Romance\"}]                                            1\n",
              "[{\"id\": 14, \"name\": \"Fantasy\"}, {\"id\": 16, \"name\": \"Animation\"}, {\"id\": 12, \"name\": \"Adventure\"}]                                                                           1\n",
              "[{\"id\": 80, \"name\": \"Crime\"}, {\"id\": 18, \"name\": \"Drama\"}, {\"id\": 36, \"name\": \"History\"}]                                                                                   1\n",
              "[{\"id\": 12, \"name\": \"Adventure\"}, {\"id\": 37, \"name\": \"Western\"}]                                                                                                            1\n",
              "[{\"id\": 14, \"name\": \"Fantasy\"}, {\"id\": 28, \"name\": \"Action\"}, {\"id\": 12, \"name\": \"Adventure\"}, {\"id\": 878, \"name\": \"Science Fiction\"}, {\"id\": 53, \"name\": \"Thriller\"}]      1\n",
              "Length: 933, dtype: int64"
            ]
          },
          "metadata": {
            "tags": []
          },
          "execution_count": 15
        }
      ]
    },
    {
      "cell_type": "code",
      "metadata": {
        "execution": {
          "iopub.execute_input": "2020-12-16T18:05:49.007298Z",
          "iopub.status.busy": "2020-12-16T18:05:49.006567Z",
          "iopub.status.idle": "2020-12-16T18:05:49.207587Z",
          "shell.execute_reply": "2020-12-16T18:05:49.207064Z"
        },
        "papermill": {
          "duration": 0.232659,
          "end_time": "2020-12-16T18:05:49.207695",
          "exception": false,
          "start_time": "2020-12-16T18:05:48.975036",
          "status": "completed"
        },
        "tags": [],
        "id": "EMy4-Z7O6Jsq",
        "outputId": "e6bbc81d-5e3d-49ff-83ed-33ef0c30966e"
      },
      "source": [
        "# Initialize the plot\n",
        "diagram = count[:10].plot.bar(fontsize = 6)\n",
        "# Set a title\n",
        "diagram.set(title = 'Top Genres')\n",
        "# x-label and y-label\n",
        "diagram.set_xlabel('Type of genres')\n",
        "diagram.set_ylabel('Number of Movies')\n",
        "# Show the plot\n",
        "plt.show()"
      ],
      "execution_count": null,
      "outputs": [
        {
          "output_type": "display_data",
          "data": {
            "image/png": "[encoded data removed]",
            "text/plain": [
              "<Figure size 432x288 with 1 Axes>"
            ]
          },
          "metadata": {
            "tags": [],
            "needs_background": "light"
          }
        }
      ]
    },
    {
      "cell_type": "markdown",
      "metadata": {
        "papermill": {
          "duration": 0.064958,
          "end_time": "2020-12-16T18:05:49.302449",
          "exception": false,
          "start_time": "2020-12-16T18:05:49.237491",
          "status": "completed"
        },
        "tags": [],
        "id": "7DViQC9o6Jsr"
      },
      "source": [
        "Darma is highest number of movies and it is successful genres"
      ]
    },
    {
      "cell_type": "markdown",
      "metadata": {
        "papermill": {
          "duration": 0.029005,
          "end_time": "2020-12-16T18:05:49.361059",
          "exception": false,
          "start_time": "2020-12-16T18:05:49.332054",
          "status": "completed"
        },
        "tags": [],
        "id": "KjgNU6Zm6Jss"
      },
      "source": [
        "# **Q3**  : 3. Which movie had the highest and lowest budget?"
      ]
    },
    {
      "cell_type": "code",
      "metadata": {
        "execution": {
          "iopub.execute_input": "2020-12-16T18:05:49.427261Z",
          "iopub.status.busy": "2020-12-16T18:05:49.426266Z",
          "iopub.status.idle": "2020-12-16T18:05:49.434014Z",
          "shell.execute_reply": "2020-12-16T18:05:49.434813Z"
        },
        "papermill": {
          "duration": 0.044667,
          "end_time": "2020-12-16T18:05:49.434995",
          "exception": false,
          "start_time": "2020-12-16T18:05:49.390328",
          "status": "completed"
        },
        "tags": [],
        "id": "OEtO8JeA6Jss",
        "outputId": "9036d19c-7c46-4c3a-e757-df0b6521f16c"
      },
      "source": [
        "# highest budget\n",
        "x = data.loc[data['budget'].idxmax()]\n",
        "print(x)\n",
        "print(\"======================================\")\n",
        "print(x[\"budget\"])\n",
        "print(\"======================================\")\n",
        "print(x[\"title\"])"
      ],
      "execution_count": null,
      "outputs": [
        {
          "output_type": "stream",
          "text": [
            "budget                                                            3.8e+08\n",
            "genres                  [{\"id\": 12, \"name\": \"Adventure\"}, {\"id\": 28, \"...\n",
            "original_language                                                      en\n",
            "original_title                Pirates of the Caribbean: On Stranger Tides\n",
            "production_countries    [{\"iso_3166_1\": \"US\", \"name\": \"United States o...\n",
            "release_date                                                   2011-05-14\n",
            "revenue                                                       1.04571e+09\n",
            "runtime                                                               136\n",
            "spoken_languages        [{\"iso_639_1\": \"en\", \"name\": \"English\"}, {\"iso...\n",
            "status                                                           Released\n",
            "title                         Pirates of the Caribbean: On Stranger Tides\n",
            "vote_count                                                           4948\n",
            "Name: 17, dtype: object\n",
            "======================================\n",
            "380000000.0\n",
            "======================================\n",
            "Pirates of the Caribbean: On Stranger Tides\n"
          ],
          "name": "stdout"
        }
      ]
    },
    {
      "cell_type": "code",
      "metadata": {
        "execution": {
          "iopub.execute_input": "2020-12-16T18:05:49.501724Z",
          "iopub.status.busy": "2020-12-16T18:05:49.500885Z",
          "iopub.status.idle": "2020-12-16T18:05:49.505572Z",
          "shell.execute_reply": "2020-12-16T18:05:49.505073Z"
        },
        "papermill": {
          "duration": 0.040789,
          "end_time": "2020-12-16T18:05:49.505673",
          "exception": false,
          "start_time": "2020-12-16T18:05:49.464884",
          "status": "completed"
        },
        "tags": [],
        "id": "7NimlH9o6Jss",
        "outputId": "6b42166b-8bc7-4e8e-9e06-11dfa71ce874"
      },
      "source": [
        "#Lowest budget \n",
        "y=data.loc[data['budget'].idxmin()]\n",
        "print(y)\n",
        "print(\"======================================\")\n",
        "print(y [\"budget\"])\n",
        "print(\"======================================\")\n",
        "print(y[\"title\"])\n"
      ],
      "execution_count": null,
      "outputs": [
        {
          "output_type": "stream",
          "text": [
            "budget                                                                  1\n",
            "genres                  [{\"id\": 18, \"name\": \"Drama\"}, {\"id\": 35, \"name...\n",
            "original_language                                                      en\n",
            "original_title                                               Modern Times\n",
            "production_countries    [{\"iso_3166_1\": \"US\", \"name\": \"United States o...\n",
            "release_date                                                   1936-02-05\n",
            "revenue                                                           8.5e+06\n",
            "runtime                                                                87\n",
            "spoken_languages                 [{\"iso_639_1\": \"en\", \"name\": \"English\"}]\n",
            "status                                                           Released\n",
            "title                                                        Modern Times\n",
            "vote_count                                                            856\n",
            "Name: 4238, dtype: object\n",
            "======================================\n",
            "1.0\n",
            "======================================\n",
            "Modern Times\n"
          ],
          "name": "stdout"
        }
      ]
    },
    {
      "cell_type": "markdown",
      "metadata": {
        "papermill": {
          "duration": 0.029231,
          "end_time": "2020-12-16T18:05:49.564083",
          "exception": false,
          "start_time": "2020-12-16T18:05:49.534852",
          "status": "completed"
        },
        "tags": [],
        "id": "JK3NcE1G6Jst"
      },
      "source": [
        "# **Q4:**  What is the average budget of the movie?"
      ]
    },
    {
      "cell_type": "code",
      "metadata": {
        "execution": {
          "iopub.execute_input": "2020-12-16T18:05:49.627547Z",
          "iopub.status.busy": "2020-12-16T18:05:49.626827Z",
          "iopub.status.idle": "2020-12-16T18:05:49.630650Z",
          "shell.execute_reply": "2020-12-16T18:05:49.631252Z"
        },
        "papermill": {
          "duration": 0.03828,
          "end_time": "2020-12-16T18:05:49.631421",
          "exception": false,
          "start_time": "2020-12-16T18:05:49.593141",
          "status": "completed"
        },
        "tags": [],
        "id": "F5eVgqej6Jst",
        "outputId": "eaa74044-efbe-4784-aa54-748f63f15d31"
      },
      "source": [
        "#mean of our budget data\n",
        "budget_mean = data.iloc[:,0].mean()\n",
        "print(budget_mean)"
      ],
      "execution_count": null,
      "outputs": [
        {
          "output_type": "stream",
          "text": [
            "40654444.774233505\n"
          ],
          "name": "stdout"
        }
      ]
    },
    {
      "cell_type": "code",
      "metadata": {
        "execution": {
          "iopub.execute_input": "2020-12-16T18:05:49.704595Z",
          "iopub.status.busy": "2020-12-16T18:05:49.703669Z",
          "iopub.status.idle": "2020-12-16T18:05:49.853918Z",
          "shell.execute_reply": "2020-12-16T18:05:49.854398Z"
        },
        "papermill": {
          "duration": 0.192118,
          "end_time": "2020-12-16T18:05:49.854525",
          "exception": false,
          "start_time": "2020-12-16T18:05:49.662407",
          "status": "completed"
        },
        "tags": [],
        "id": "e4hx4D146Jst",
        "outputId": "38e54534-4eaa-4cb5-a7c6-563a11f2b97b"
      },
      "source": [
        "#plot relation between budget and revenue   \n",
        "revenue = data.iloc [:,6].values\n",
        "budget =  data.iloc[:,0].values \n",
        "plt.title(\"Relation between Budget and Revenue \")\n",
        "plt.xlabel(\"revenue\")\n",
        "plt.ylabel(\"budget\")\n",
        "plt.scatter(revenue,budget , color = \"r\" )\n",
        "\n"
      ],
      "execution_count": null,
      "outputs": [
        {
          "output_type": "execute_result",
          "data": {
            "text/plain": [
              "<matplotlib.collections.PathCollection at 0x7fe11004df10>"
            ]
          },
          "metadata": {
            "tags": []
          },
          "execution_count": 20
        },
        {
          "output_type": "display_data",
          "data": {
            "image/png": "[encoded data removed]",
            "text/plain": [
              "<Figure size 432x288 with 1 Axes>"
            ]
          },
          "metadata": {
            "tags": [],
            "needs_background": "light"
          }
        }
      ]
    },
    {
      "cell_type": "code",
      "metadata": {
        "papermill": {
          "duration": 0.040456,
          "end_time": "2020-12-16T18:05:49.926269",
          "exception": false,
          "start_time": "2020-12-16T18:05:49.885813",
          "status": "completed"
        },
        "tags": [],
        "id": "uIcaBM4u6Jsu"
      },
      "source": [
        ""
      ],
      "execution_count": null,
      "outputs": []
    }
  ]
}